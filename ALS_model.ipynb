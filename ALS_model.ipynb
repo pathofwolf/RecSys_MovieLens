{
 "cells": [
  {
   "cell_type": "code",
   "execution_count": 1,
   "metadata": {},
   "outputs": [],
   "source": [
    "from pyspark.ml.recommendation import ALS\n",
    "from pyspark.sql import SparkSession\n",
    "from pyspark.sql.functions import col\n",
    "from pyspark.ml.evaluation import RegressionEvaluator\n",
    "import pandas as pd\n",
    "from pyspark.sql import functions as F"
   ]
  },
  {
   "cell_type": "code",
   "execution_count": 2,
   "metadata": {},
   "outputs": [],
   "source": [
    "spark = SparkSession.builder.appName(\"ALS Model\").getOrCreate()"
   ]
  },
  {
   "cell_type": "code",
   "execution_count": 3,
   "metadata": {},
   "outputs": [],
   "source": [
    "train = spark.read.csv(\"train_data.csv\", header=True, inferSchema=True)\n",
    "test = spark.read.csv(\"test_data.csv\", header=True, inferSchema=True)"
   ]
  },
  {
   "cell_type": "code",
   "execution_count": 4,
   "metadata": {},
   "outputs": [],
   "source": [
    "als = ALS(userCol=\"userId\", itemCol=\"movieId\", ratingCol=\"rating\", nonnegative=True,  \n",
    "          rank=2, maxIter=20, regParam=0.13, coldStartStrategy=\"drop\")\n",
    "\n",
    "als_model = als.fit(train)\n",
    "\n",
    "predictions = als_model.transform(test)"
   ]
  },
  {
   "cell_type": "code",
   "execution_count": 5,
   "metadata": {},
   "outputs": [
    {
     "name": "stdout",
     "output_type": "stream",
     "text": [
      "RMSE: 0.8850576441646054\n",
      "MAE: 0.6855598945020555\n"
     ]
    }
   ],
   "source": [
    "evaluator = RegressionEvaluator(metricName=\"rmse\", labelCol=\"rating\", predictionCol=\"prediction\")\n",
    "rmse = evaluator.evaluate(predictions)\n",
    "print(f\"RMSE: {rmse}\")\n",
    "\n",
    "evaluator_mae = RegressionEvaluator(metricName=\"mae\", labelCol=\"rating\", predictionCol=\"prediction\")\n",
    "mae = evaluator_mae.evaluate(predictions)\n",
    "print(f\"MAE: {mae}\")"
   ]
  },
  {
   "cell_type": "code",
   "execution_count": 6,
   "metadata": {},
   "outputs": [],
   "source": [
    "predictions_clipped = predictions.withColumn(\n",
    "    \"prediction\",\n",
    "    F.when(F.col(\"prediction\") < 0, 0)\n",
    "     .when(F.col(\"prediction\") > 5, 5)\n",
    "     .otherwise(F.col(\"prediction\"))\n",
    ")"
   ]
  },
  {
   "cell_type": "code",
   "execution_count": 7,
   "metadata": {},
   "outputs": [
    {
     "name": "stdout",
     "output_type": "stream",
     "text": [
      "RMSE: 0.8849243499345293\n",
      "MAE: 0.685347302104303\n"
     ]
    }
   ],
   "source": [
    "rmse_clipped = evaluator.evaluate(predictions_clipped)\n",
    "print(f\"RMSE: {rmse_clipped}\")\n",
    "\n",
    "mae_clipped = evaluator_mae.evaluate(predictions_clipped)\n",
    "print(f\"MAE: {mae_clipped}\")"
   ]
  },
  {
   "cell_type": "code",
   "execution_count": 8,
   "metadata": {},
   "outputs": [
    {
     "name": "stdout",
     "output_type": "stream",
     "text": [
      "+------+---------------------------------------------------------------------------------------------------+\n",
      "|userId|recommendations                                                                                    |\n",
      "+------+---------------------------------------------------------------------------------------------------+\n",
      "|1     |[{167746, 5.792939}, {6666, 5.599677}, {26084, 5.5527563}, {177593, 5.4989057}, {3200, 5.4678726}] |\n",
      "|2     |[{167746, 4.686495}, {47423, 4.5686626}, {54881, 4.553201}, {130490, 4.5360503}, {8827, 4.5030203}]|\n",
      "|3     |[{158872, 4.0467963}, {89904, 3.8038788}, {1232, 3.5286481}, {6639, 3.4873235}, {158966, 3.39644}] |\n",
      "|4     |[{158872, 5.4484115}, {89904, 5.264735}, {158966, 4.99732}, {1232, 4.8181734}, {6639, 4.796327}]   |\n",
      "|5     |[{167746, 4.5993185}, {6666, 4.4700265}, {26084, 4.431964}, {3201, 4.413035}, {86781, 4.409999}]   |\n",
      "|6     |[{130490, 5.266449}, {54881, 5.1798124}, {167746, 5.1301174}, {47423, 5.129494}, {8827, 5.0688295}]|\n",
      "|7     |[{167746, 4.5871325}, {6666, 4.427742}, {26084, 4.390801}, {177593, 4.352263}, {3200, 4.326488}]   |\n",
      "|8     |[{167746, 4.849634}, {6666, 4.7035346}, {26084, 4.663728}, {86781, 4.6120324}, {3201, 4.6096807}]  |\n",
      "|9     |[{158872, 4.953507}, {89904, 4.908127}, {158966, 4.9034667}, {3201, 4.8383245}, {3182, 4.8110147}] |\n",
      "|10    |[{130490, 5.4438844}, {54881, 4.967845}, {68073, 4.860356}, {8966, 4.823901}, {87529, 4.7644906}]  |\n",
      "|11    |[{167746, 5.089164}, {47423, 4.887892}, {3925, 4.8393583}, {54881, 4.832695}, {8827, 4.8102164}]   |\n",
      "|12    |[{167746, 5.984635}, {47423, 5.682388}, {3925, 5.651131}, {6666, 5.6472645}, {177593, 5.6366944}]  |\n",
      "|13    |[{167746, 5.05142}, {6666, 4.855945}, {26084, 4.815933}, {177593, 4.786378}, {3200, 4.754222}]     |\n",
      "|14    |[{167746, 4.819047}, {6666, 4.561355}, {177593, 4.5433545}, {47423, 4.532997}, {26084, 4.5255704}] |\n",
      "|15    |[{167746, 4.593685}, {6666, 4.3806534}, {26084, 4.345449}, {177593, 4.341346}, {3200, 4.305435}]   |\n",
      "|16    |[{158966, 4.2187605}, {3201, 4.21387}, {86781, 4.1824884}, {158872, 4.1823754}, {3182, 4.1782613}] |\n",
      "|17    |[{167746, 5.1389084}, {6666, 4.9153366}, {26084, 4.87546}, {177593, 4.8613486}, {3200, 4.8239636}] |\n",
      "|18    |[{167746, 4.8738327}, {6666, 4.698246}, {26084, 4.6592045}, {177593, 4.622284}, {3200, 4.5937195}] |\n",
      "|19    |[{167746, 3.9221869}, {6666, 3.7797441}, {26084, 3.7483644}, {177593, 3.719389}, {3200, 3.6961858}]|\n",
      "|20    |[{167746, 5.0657864}, {6666, 4.93853}, {3201, 4.9281015}, {86781, 4.916147}, {26084, 4.896099}]    |\n",
      "+------+---------------------------------------------------------------------------------------------------+\n",
      "only showing top 20 rows\n",
      "\n"
     ]
    }
   ],
   "source": [
    "userRecs = als_model.recommendForAllUsers(5)\n",
    "userRecs.show(truncate=False)"
   ]
  },
  {
   "cell_type": "code",
   "execution_count": 9,
   "metadata": {},
   "outputs": [],
   "source": [
    "from pyspark.sql import functions as F\n",
    "\n",
    "userRecs = userRecs.withColumn(\"recommendations\", F.expr(\"transform(recommendations, x -> concat(x.movieId, ':', x.rating))\"))\n",
    "userRecs = userRecs.withColumn(\"recommendations\", F.concat_ws(\", \", \"recommendations\"))\n",
    "\n",
    "userRecs.toPandas().to_csv(\"user_recommendations.csv\", index=False)"
   ]
  },
  {
   "cell_type": "code",
   "execution_count": null,
   "metadata": {},
   "outputs": [],
   "source": []
  },
  {
   "cell_type": "code",
   "execution_count": null,
   "metadata": {},
   "outputs": [],
   "source": []
  },
  {
   "cell_type": "code",
   "execution_count": null,
   "metadata": {},
   "outputs": [],
   "source": []
  },
  {
   "cell_type": "code",
   "execution_count": null,
   "metadata": {},
   "outputs": [],
   "source": []
  }
 ],
 "metadata": {
  "kernelspec": {
   "display_name": "venv",
   "language": "python",
   "name": "python3"
  },
  "language_info": {
   "codemirror_mode": {
    "name": "ipython",
    "version": 3
   },
   "file_extension": ".py",
   "mimetype": "text/x-python",
   "name": "python",
   "nbconvert_exporter": "python",
   "pygments_lexer": "ipython3",
   "version": "3.10.11"
  }
 },
 "nbformat": 4,
 "nbformat_minor": 2
}
